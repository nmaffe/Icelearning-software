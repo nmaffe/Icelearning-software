{
 "cells": [
  {
   "cell_type": "code",
   "execution_count": 2,
   "id": "accepting-professional",
   "metadata": {
    "id": "accepting-professional",
    "outputId": "71af8c09-55ff-4dc2-c2be-951cf92d6927"
   },
   "outputs": [
    {
     "name": "stdout",
     "output_type": "stream",
     "text": [
      "working with cuda\n"
     ]
    }
   ],
   "source": [
    "# ====================================================\n",
    "# Library\n",
    "# ====================================================\n",
    "\n",
    "import os\n",
    "import copy\n",
    "import time\n",
    "from random import randrange, randint\n",
    "\n",
    "import cv2\n",
    "from PIL import Image\n",
    "\n",
    "from sklearn.model_selection import StratifiedKFold, GroupKFold, KFold\n",
    "from skimage import io\n",
    "from sklearn import metrics\n",
    "from sklearn.metrics import confusion_matrix\n",
    "# machine learning\n",
    "from sklearn.linear_model import LogisticRegression\n",
    "from sklearn.svm import SVC, LinearSVC\n",
    "from sklearn.ensemble import RandomForestClassifier\n",
    "from sklearn.ensemble import AdaBoostClassifier\n",
    "from sklearn.neighbors import KNeighborsClassifier\n",
    "from sklearn.naive_bayes import GaussianNB\n",
    "from sklearn.linear_model import Perceptron\n",
    "from sklearn.linear_model import SGDClassifier\n",
    "from sklearn.tree import DecisionTreeClassifier\n",
    "from sklearn.utils import shuffle\n",
    "\n",
    "import itertools\n",
    "import numpy as np\n",
    "import pandas as pd\n",
    "import seaborn as sns\n",
    "import matplotlib\n",
    "import matplotlib.pyplot as plt\n",
    "#%matplotlib qt\n",
    "%matplotlib inline\n",
    "#%matplotlib notebook\n",
    "\n",
    "import timm\n",
    "\n",
    "import torch\n",
    "import torchvision\n",
    "import torch.nn as nn\n",
    "from torch.utils.data import DataLoader, Dataset\n",
    "from torchvision import transforms\n",
    "import torchvision.models as models\n",
    "from torch.optim import SGD, Adam\n",
    "from torch.optim import lr_scheduler\n",
    "\n",
    "import albumentations as A\n",
    "from albumentations.pytorch import ToTensorV2\n",
    "\n",
    "device = torch.device('cuda' if torch.cuda.is_available() else 'cpu')\n",
    "print(f'working with {device}')"
   ]
  },
  {
   "cell_type": "markdown",
   "id": "adaptive-charge",
   "metadata": {
    "id": "adaptive-charge"
   },
   "source": [
    "## Import train csv"
   ]
  },
  {
   "cell_type": "code",
   "execution_count": 3,
   "id": "advised-burning",
   "metadata": {
    "id": "advised-burning",
    "outputId": "ced63015-f558-49c6-b25c-52379ab9ba71"
   },
   "outputs": [
    {
     "data": {
      "text/html": [
       "<div>\n",
       "<style scoped>\n",
       "    .dataframe tbody tr th:only-of-type {\n",
       "        vertical-align: middle;\n",
       "    }\n",
       "\n",
       "    .dataframe tbody tr th {\n",
       "        vertical-align: top;\n",
       "    }\n",
       "\n",
       "    .dataframe thead th {\n",
       "        text-align: right;\n",
       "    }\n",
       "</style>\n",
       "<table border=\"1\" class=\"dataframe\">\n",
       "  <thead>\n",
       "    <tr style=\"text-align: right;\">\n",
       "      <th></th>\n",
       "      <th>Area (ABD)</th>\n",
       "      <th>Area (Filled)</th>\n",
       "      <th>Aspect Ratio</th>\n",
       "      <th>Biovolume (Cylinder)</th>\n",
       "      <th>Biovolume (P. Spheroid)</th>\n",
       "      <th>Biovolume (Sphere)</th>\n",
       "      <th>Circle Fit</th>\n",
       "      <th>Circularity</th>\n",
       "      <th>Circularity (Hu)</th>\n",
       "      <th>Compactness</th>\n",
       "      <th>...</th>\n",
       "      <th>Transparency</th>\n",
       "      <th>Volume (ABD)</th>\n",
       "      <th>Volume (ESD)</th>\n",
       "      <th>Width</th>\n",
       "      <th>camp</th>\n",
       "      <th>corylus</th>\n",
       "      <th>dust</th>\n",
       "      <th>grim</th>\n",
       "      <th>qrob</th>\n",
       "      <th>qsub</th>\n",
       "    </tr>\n",
       "  </thead>\n",
       "  <tbody>\n",
       "    <tr>\n",
       "      <th>126653</th>\n",
       "      <td>1281.92</td>\n",
       "      <td>1285.67</td>\n",
       "      <td>0.90</td>\n",
       "      <td>23930.64</td>\n",
       "      <td>33210.41</td>\n",
       "      <td>34526.77</td>\n",
       "      <td>0.59</td>\n",
       "      <td>0.62</td>\n",
       "      <td>0.99</td>\n",
       "      <td>1.63</td>\n",
       "      <td>...</td>\n",
       "      <td>0.03</td>\n",
       "      <td>34526.770000</td>\n",
       "      <td>37600.420000</td>\n",
       "      <td>38.94</td>\n",
       "      <td>0</td>\n",
       "      <td>0</td>\n",
       "      <td>0</td>\n",
       "      <td>0</td>\n",
       "      <td>0</td>\n",
       "      <td>1</td>\n",
       "    </tr>\n",
       "    <tr>\n",
       "      <th>102683</th>\n",
       "      <td>3026.72</td>\n",
       "      <td>3026.72</td>\n",
       "      <td>0.69</td>\n",
       "      <td>56759.55</td>\n",
       "      <td>122382.70</td>\n",
       "      <td>125262.82</td>\n",
       "      <td>0.28</td>\n",
       "      <td>0.39</td>\n",
       "      <td>0.84</td>\n",
       "      <td>2.59</td>\n",
       "      <td>...</td>\n",
       "      <td>0.17</td>\n",
       "      <td>125262.800000</td>\n",
       "      <td>220385.200000</td>\n",
       "      <td>62.34</td>\n",
       "      <td>0</td>\n",
       "      <td>0</td>\n",
       "      <td>0</td>\n",
       "      <td>1</td>\n",
       "      <td>0</td>\n",
       "      <td>0</td>\n",
       "    </tr>\n",
       "    <tr>\n",
       "      <th>9139</th>\n",
       "      <td>19.60</td>\n",
       "      <td>20.15</td>\n",
       "      <td>0.76</td>\n",
       "      <td>85.35</td>\n",
       "      <td>62.58</td>\n",
       "      <td>65.27</td>\n",
       "      <td>0.70</td>\n",
       "      <td>0.63</td>\n",
       "      <td>0.91</td>\n",
       "      <td>1.58</td>\n",
       "      <td>...</td>\n",
       "      <td>0.13</td>\n",
       "      <td>65.271140</td>\n",
       "      <td>99.452310</td>\n",
       "      <td>4.81</td>\n",
       "      <td>1</td>\n",
       "      <td>0</td>\n",
       "      <td>0</td>\n",
       "      <td>0</td>\n",
       "      <td>0</td>\n",
       "      <td>0</td>\n",
       "    </tr>\n",
       "    <tr>\n",
       "      <th>33010</th>\n",
       "      <td>25.50</td>\n",
       "      <td>25.50</td>\n",
       "      <td>0.47</td>\n",
       "      <td>174.09</td>\n",
       "      <td>59.29</td>\n",
       "      <td>96.88</td>\n",
       "      <td>0.48</td>\n",
       "      <td>0.78</td>\n",
       "      <td>0.75</td>\n",
       "      <td>1.28</td>\n",
       "      <td>...</td>\n",
       "      <td>0.15</td>\n",
       "      <td>96.880790</td>\n",
       "      <td>155.039800</td>\n",
       "      <td>3.44</td>\n",
       "      <td>1</td>\n",
       "      <td>0</td>\n",
       "      <td>0</td>\n",
       "      <td>0</td>\n",
       "      <td>0</td>\n",
       "      <td>0</td>\n",
       "    </tr>\n",
       "    <tr>\n",
       "      <th>20928</th>\n",
       "      <td>23.70</td>\n",
       "      <td>23.70</td>\n",
       "      <td>0.77</td>\n",
       "      <td>134.74</td>\n",
       "      <td>73.27</td>\n",
       "      <td>86.82</td>\n",
       "      <td>0.82</td>\n",
       "      <td>0.91</td>\n",
       "      <td>0.96</td>\n",
       "      <td>1.10</td>\n",
       "      <td>...</td>\n",
       "      <td>0.05</td>\n",
       "      <td>86.816100</td>\n",
       "      <td>100.260300</td>\n",
       "      <td>4.87</td>\n",
       "      <td>1</td>\n",
       "      <td>0</td>\n",
       "      <td>0</td>\n",
       "      <td>0</td>\n",
       "      <td>0</td>\n",
       "      <td>0</td>\n",
       "    </tr>\n",
       "    <tr>\n",
       "      <th>67413</th>\n",
       "      <td>451.41</td>\n",
       "      <td>479.44</td>\n",
       "      <td>0.90</td>\n",
       "      <td>9193.73</td>\n",
       "      <td>7498.68</td>\n",
       "      <td>7214.62</td>\n",
       "      <td>0.86</td>\n",
       "      <td>0.81</td>\n",
       "      <td>0.99</td>\n",
       "      <td>1.24</td>\n",
       "      <td>...</td>\n",
       "      <td>0.05</td>\n",
       "      <td>7214.621000</td>\n",
       "      <td>8451.851000</td>\n",
       "      <td>23.73</td>\n",
       "      <td>0</td>\n",
       "      <td>1</td>\n",
       "      <td>0</td>\n",
       "      <td>0</td>\n",
       "      <td>0</td>\n",
       "      <td>0</td>\n",
       "    </tr>\n",
       "    <tr>\n",
       "      <th>98641</th>\n",
       "      <td>0.06</td>\n",
       "      <td>0.00</td>\n",
       "      <td>1.00</td>\n",
       "      <td>0.00</td>\n",
       "      <td>0.00</td>\n",
       "      <td>0.01</td>\n",
       "      <td>0.00</td>\n",
       "      <td>0.00</td>\n",
       "      <td>0.00</td>\n",
       "      <td>1.27</td>\n",
       "      <td>...</td>\n",
       "      <td>0.00</td>\n",
       "      <td>0.010913</td>\n",
       "      <td>0.010913</td>\n",
       "      <td>0.28</td>\n",
       "      <td>0</td>\n",
       "      <td>0</td>\n",
       "      <td>1</td>\n",
       "      <td>0</td>\n",
       "      <td>0</td>\n",
       "      <td>0</td>\n",
       "    </tr>\n",
       "    <tr>\n",
       "      <th>116479</th>\n",
       "      <td>685.72</td>\n",
       "      <td>685.72</td>\n",
       "      <td>0.78</td>\n",
       "      <td>12903.57</td>\n",
       "      <td>11902.01</td>\n",
       "      <td>13507.67</td>\n",
       "      <td>0.70</td>\n",
       "      <td>0.75</td>\n",
       "      <td>0.97</td>\n",
       "      <td>1.33</td>\n",
       "      <td>...</td>\n",
       "      <td>0.04</td>\n",
       "      <td>13507.670000</td>\n",
       "      <td>15040.050000</td>\n",
       "      <td>26.51</td>\n",
       "      <td>0</td>\n",
       "      <td>0</td>\n",
       "      <td>0</td>\n",
       "      <td>0</td>\n",
       "      <td>1</td>\n",
       "      <td>0</td>\n",
       "    </tr>\n",
       "    <tr>\n",
       "      <th>5717</th>\n",
       "      <td>43.80</td>\n",
       "      <td>45.55</td>\n",
       "      <td>0.47</td>\n",
       "      <td>170.47</td>\n",
       "      <td>161.44</td>\n",
       "      <td>218.04</td>\n",
       "      <td>0.39</td>\n",
       "      <td>0.44</td>\n",
       "      <td>0.71</td>\n",
       "      <td>2.28</td>\n",
       "      <td>...</td>\n",
       "      <td>0.21</td>\n",
       "      <td>218.036000</td>\n",
       "      <td>436.921600</td>\n",
       "      <td>5.09</td>\n",
       "      <td>1</td>\n",
       "      <td>0</td>\n",
       "      <td>0</td>\n",
       "      <td>0</td>\n",
       "      <td>0</td>\n",
       "      <td>0</td>\n",
       "    </tr>\n",
       "    <tr>\n",
       "      <th>76961</th>\n",
       "      <td>0.28</td>\n",
       "      <td>0.28</td>\n",
       "      <td>0.47</td>\n",
       "      <td>0.65</td>\n",
       "      <td>0.08</td>\n",
       "      <td>0.11</td>\n",
       "      <td>0.80</td>\n",
       "      <td>1.00</td>\n",
       "      <td>0.73</td>\n",
       "      <td>1.00</td>\n",
       "      <td>...</td>\n",
       "      <td>0.18</td>\n",
       "      <td>0.113856</td>\n",
       "      <td>0.208228</td>\n",
       "      <td>0.41</td>\n",
       "      <td>0</td>\n",
       "      <td>0</td>\n",
       "      <td>1</td>\n",
       "      <td>0</td>\n",
       "      <td>0</td>\n",
       "      <td>0</td>\n",
       "    </tr>\n",
       "  </tbody>\n",
       "</table>\n",
       "<p>10 rows × 45 columns</p>\n",
       "</div>"
      ],
      "text/plain": [
       "        Area (ABD)  Area (Filled)  Aspect Ratio  Biovolume (Cylinder)  \\\n",
       "126653     1281.92        1285.67          0.90              23930.64   \n",
       "102683     3026.72        3026.72          0.69              56759.55   \n",
       "9139         19.60          20.15          0.76                 85.35   \n",
       "33010        25.50          25.50          0.47                174.09   \n",
       "20928        23.70          23.70          0.77                134.74   \n",
       "67413       451.41         479.44          0.90               9193.73   \n",
       "98641         0.06           0.00          1.00                  0.00   \n",
       "116479      685.72         685.72          0.78              12903.57   \n",
       "5717         43.80          45.55          0.47                170.47   \n",
       "76961         0.28           0.28          0.47                  0.65   \n",
       "\n",
       "        Biovolume (P. Spheroid)  Biovolume (Sphere)  Circle Fit  Circularity  \\\n",
       "126653                 33210.41            34526.77        0.59         0.62   \n",
       "102683                122382.70           125262.82        0.28         0.39   \n",
       "9139                      62.58               65.27        0.70         0.63   \n",
       "33010                     59.29               96.88        0.48         0.78   \n",
       "20928                     73.27               86.82        0.82         0.91   \n",
       "67413                   7498.68             7214.62        0.86         0.81   \n",
       "98641                      0.00                0.01        0.00         0.00   \n",
       "116479                 11902.01            13507.67        0.70         0.75   \n",
       "5717                     161.44              218.04        0.39         0.44   \n",
       "76961                      0.08                0.11        0.80         1.00   \n",
       "\n",
       "        Circularity (Hu)  Compactness  ...  Transparency   Volume (ABD)  \\\n",
       "126653              0.99         1.63  ...          0.03   34526.770000   \n",
       "102683              0.84         2.59  ...          0.17  125262.800000   \n",
       "9139                0.91         1.58  ...          0.13      65.271140   \n",
       "33010               0.75         1.28  ...          0.15      96.880790   \n",
       "20928               0.96         1.10  ...          0.05      86.816100   \n",
       "67413               0.99         1.24  ...          0.05    7214.621000   \n",
       "98641               0.00         1.27  ...          0.00       0.010913   \n",
       "116479              0.97         1.33  ...          0.04   13507.670000   \n",
       "5717                0.71         2.28  ...          0.21     218.036000   \n",
       "76961               0.73         1.00  ...          0.18       0.113856   \n",
       "\n",
       "         Volume (ESD)  Width  camp  corylus  dust  grim  qrob  qsub  \n",
       "126653   37600.420000  38.94     0        0     0     0     0     1  \n",
       "102683  220385.200000  62.34     0        0     0     1     0     0  \n",
       "9139        99.452310   4.81     1        0     0     0     0     0  \n",
       "33010      155.039800   3.44     1        0     0     0     0     0  \n",
       "20928      100.260300   4.87     1        0     0     0     0     0  \n",
       "67413     8451.851000  23.73     0        1     0     0     0     0  \n",
       "98641        0.010913   0.28     0        0     1     0     0     0  \n",
       "116479   15040.050000  26.51     0        0     0     0     1     0  \n",
       "5717       436.921600   5.09     1        0     0     0     0     0  \n",
       "76961        0.208228   0.41     0        0     1     0     0     0  \n",
       "\n",
       "[10 rows x 45 columns]"
      ]
     },
     "metadata": {},
     "output_type": "display_data"
    },
    {
     "name": "stdout",
     "output_type": "stream",
     "text": [
      "Index(['Area (ABD)', 'Area (Filled)', 'Aspect Ratio', 'Biovolume (Cylinder)',\n",
      "       'Biovolume (P. Spheroid)', 'Biovolume (Sphere)', 'Circle Fit',\n",
      "       'Circularity', 'Circularity (Hu)', 'Compactness', 'Convex Perimeter',\n",
      "       'Convexity', 'Diameter (ABD)', 'Diameter (ESD)', 'Edge Gradient',\n",
      "       'Elongation', 'Feret Angle Max', 'Feret Angle Min', 'Fiber Curl',\n",
      "       'Fiber Straightness', 'Geodesic Aspect Ratio', 'Geodesic Length',\n",
      "       'Geodesic Thickness', 'Intensity', 'Length', 'Particles Per Chain',\n",
      "       'Perimeter', 'Roughness', 'Sigma Intensity', 'Sphere Complement',\n",
      "       'Sphere Count', 'Sphere Unknown', 'Sphere Volume', 'Sum Intensity',\n",
      "       'Symmetry', 'Transparency', 'Volume (ABD)', 'Volume (ESD)', 'Width',\n",
      "       'camp', 'corylus', 'dust', 'grim', 'qrob', 'qsub'],\n",
      "      dtype='object')\n"
     ]
    }
   ],
   "source": [
    "PATH = '/home/nico/Desktop/MarieCurie/Flowcam/train/'\n",
    "\n",
    "train = pd.read_csv(PATH + 'train.csv')\n",
    "\n",
    "# Let's drop some useless features\n",
    "todrop = ['Particle ID',\n",
    "          'Calibration Factor',\n",
    "          'Calibration Image',\n",
    "          'Camera',\n",
    "          'Capture X',\n",
    "          'Capture Y',\n",
    "          'Date',\n",
    "          'Elapsed Time',\n",
    "          'Filter Score',\n",
    "          'Image File',\n",
    "          'Image Height',\n",
    "          'Image Width',\n",
    "          'Image X',\n",
    "          'Image Y',\n",
    "          'Source Image',\n",
    "          'Time',\n",
    "          'Timestamp',\n",
    "          'imgpaths'\n",
    "         ]\n",
    "train.drop(columns=todrop, inplace=True)\n",
    "\n",
    "display(train.sample(10))\n",
    "\n",
    "print(train.columns)"
   ]
  },
  {
   "cell_type": "code",
   "execution_count": 4,
   "id": "disabled-houston",
   "metadata": {
    "id": "disabled-houston",
    "outputId": "a7b03c77-1df5-4e3a-cc82-0d41ada4290c"
   },
   "outputs": [
    {
     "name": "stdout",
     "output_type": "stream",
     "text": [
      "36000\n",
      "6000\n"
     ]
    },
    {
     "data": {
      "text/html": [
       "<div>\n",
       "<style scoped>\n",
       "    .dataframe tbody tr th:only-of-type {\n",
       "        vertical-align: middle;\n",
       "    }\n",
       "\n",
       "    .dataframe tbody tr th {\n",
       "        vertical-align: top;\n",
       "    }\n",
       "\n",
       "    .dataframe thead th {\n",
       "        text-align: right;\n",
       "    }\n",
       "</style>\n",
       "<table border=\"1\" class=\"dataframe\">\n",
       "  <thead>\n",
       "    <tr style=\"text-align: right;\">\n",
       "      <th></th>\n",
       "      <th>Area (ABD)</th>\n",
       "      <th>Area (Filled)</th>\n",
       "      <th>Aspect Ratio</th>\n",
       "      <th>Biovolume (Cylinder)</th>\n",
       "      <th>Biovolume (P. Spheroid)</th>\n",
       "      <th>Biovolume (Sphere)</th>\n",
       "      <th>Circle Fit</th>\n",
       "      <th>Circularity</th>\n",
       "      <th>Circularity (Hu)</th>\n",
       "      <th>Compactness</th>\n",
       "      <th>...</th>\n",
       "      <th>Transparency</th>\n",
       "      <th>Volume (ABD)</th>\n",
       "      <th>Volume (ESD)</th>\n",
       "      <th>Width</th>\n",
       "      <th>camp</th>\n",
       "      <th>corylus</th>\n",
       "      <th>dust</th>\n",
       "      <th>grim</th>\n",
       "      <th>qrob</th>\n",
       "      <th>qsub</th>\n",
       "    </tr>\n",
       "  </thead>\n",
       "  <tbody>\n",
       "    <tr>\n",
       "      <th>11409</th>\n",
       "      <td>506.43</td>\n",
       "      <td>533.02</td>\n",
       "      <td>0.84</td>\n",
       "      <td>8277.83</td>\n",
       "      <td>8506.70</td>\n",
       "      <td>8573.21</td>\n",
       "      <td>0.76</td>\n",
       "      <td>0.72</td>\n",
       "      <td>0.98</td>\n",
       "      <td>1.39</td>\n",
       "      <td>...</td>\n",
       "      <td>0.06</td>\n",
       "      <td>8573.20600</td>\n",
       "      <td>10309.18000</td>\n",
       "      <td>24.19</td>\n",
       "      <td>0</td>\n",
       "      <td>1</td>\n",
       "      <td>0</td>\n",
       "      <td>0</td>\n",
       "      <td>0</td>\n",
       "      <td>0</td>\n",
       "    </tr>\n",
       "    <tr>\n",
       "      <th>29907</th>\n",
       "      <td>882.04</td>\n",
       "      <td>882.04</td>\n",
       "      <td>0.96</td>\n",
       "      <td>15959.76</td>\n",
       "      <td>19444.27</td>\n",
       "      <td>19705.75</td>\n",
       "      <td>0.76</td>\n",
       "      <td>0.69</td>\n",
       "      <td>1.00</td>\n",
       "      <td>1.45</td>\n",
       "      <td>...</td>\n",
       "      <td>0.03</td>\n",
       "      <td>19705.75000</td>\n",
       "      <td>21337.78000</td>\n",
       "      <td>33.81</td>\n",
       "      <td>0</td>\n",
       "      <td>0</td>\n",
       "      <td>0</td>\n",
       "      <td>0</td>\n",
       "      <td>1</td>\n",
       "      <td>0</td>\n",
       "    </tr>\n",
       "    <tr>\n",
       "      <th>16830</th>\n",
       "      <td>8.14</td>\n",
       "      <td>8.14</td>\n",
       "      <td>0.60</td>\n",
       "      <td>43.04</td>\n",
       "      <td>11.92</td>\n",
       "      <td>17.46</td>\n",
       "      <td>0.70</td>\n",
       "      <td>0.85</td>\n",
       "      <td>0.87</td>\n",
       "      <td>1.18</td>\n",
       "      <td>...</td>\n",
       "      <td>0.12</td>\n",
       "      <td>17.45728</td>\n",
       "      <td>25.76439</td>\n",
       "      <td>2.46</td>\n",
       "      <td>0</td>\n",
       "      <td>0</td>\n",
       "      <td>1</td>\n",
       "      <td>0</td>\n",
       "      <td>0</td>\n",
       "      <td>0</td>\n",
       "    </tr>\n",
       "  </tbody>\n",
       "</table>\n",
       "<p>3 rows × 45 columns</p>\n",
       "</div>"
      ],
      "text/plain": [
       "       Area (ABD)  Area (Filled)  Aspect Ratio  Biovolume (Cylinder)  \\\n",
       "11409      506.43         533.02          0.84               8277.83   \n",
       "29907      882.04         882.04          0.96              15959.76   \n",
       "16830        8.14           8.14          0.60                 43.04   \n",
       "\n",
       "       Biovolume (P. Spheroid)  Biovolume (Sphere)  Circle Fit  Circularity  \\\n",
       "11409                  8506.70             8573.21        0.76         0.72   \n",
       "29907                 19444.27            19705.75        0.76         0.69   \n",
       "16830                    11.92               17.46        0.70         0.85   \n",
       "\n",
       "       Circularity (Hu)  Compactness  ...  Transparency  Volume (ABD)  \\\n",
       "11409              0.98         1.39  ...          0.06    8573.20600   \n",
       "29907              1.00         1.45  ...          0.03   19705.75000   \n",
       "16830              0.87         1.18  ...          0.12      17.45728   \n",
       "\n",
       "       Volume (ESD)  Width  camp  corylus  dust  grim  qrob  qsub  \n",
       "11409   10309.18000  24.19     0        1     0     0     0     0  \n",
       "29907   21337.78000  33.81     0        0     0     0     1     0  \n",
       "16830      25.76439   2.46     0        0     1     0     0     0  \n",
       "\n",
       "[3 rows x 45 columns]"
      ]
     },
     "metadata": {},
     "output_type": "display_data"
    },
    {
     "name": "stdout",
     "output_type": "stream",
     "text": [
      "<class 'pandas.core.frame.DataFrame'>\n",
      "RangeIndex: 36000 entries, 0 to 35999\n",
      "Data columns (total 45 columns):\n",
      " #   Column                   Non-Null Count  Dtype  \n",
      "---  ------                   --------------  -----  \n",
      " 0   Area (ABD)               36000 non-null  float64\n",
      " 1   Area (Filled)            36000 non-null  float64\n",
      " 2   Aspect Ratio             36000 non-null  float64\n",
      " 3   Biovolume (Cylinder)     36000 non-null  float64\n",
      " 4   Biovolume (P. Spheroid)  36000 non-null  float64\n",
      " 5   Biovolume (Sphere)       36000 non-null  float64\n",
      " 6   Circle Fit               36000 non-null  float64\n",
      " 7   Circularity              36000 non-null  float64\n",
      " 8   Circularity (Hu)         36000 non-null  float64\n",
      " 9   Compactness              36000 non-null  float64\n",
      " 10  Convex Perimeter         36000 non-null  float64\n",
      " 11  Convexity                36000 non-null  float64\n",
      " 12  Diameter (ABD)           36000 non-null  float64\n",
      " 13  Diameter (ESD)           36000 non-null  float64\n",
      " 14  Edge Gradient            36000 non-null  float64\n",
      " 15  Elongation               36000 non-null  float64\n",
      " 16  Feret Angle Max          36000 non-null  float64\n",
      " 17  Feret Angle Min          36000 non-null  float64\n",
      " 18  Fiber Curl               36000 non-null  float64\n",
      " 19  Fiber Straightness       36000 non-null  float64\n",
      " 20  Geodesic Aspect Ratio    36000 non-null  float64\n",
      " 21  Geodesic Length          36000 non-null  float64\n",
      " 22  Geodesic Thickness       36000 non-null  float64\n",
      " 23  Intensity                36000 non-null  float64\n",
      " 24  Length                   36000 non-null  float64\n",
      " 25  Particles Per Chain      36000 non-null  int64  \n",
      " 26  Perimeter                36000 non-null  float64\n",
      " 27  Roughness                36000 non-null  float64\n",
      " 28  Sigma Intensity          36000 non-null  float64\n",
      " 29  Sphere Complement        36000 non-null  float64\n",
      " 30  Sphere Count             36000 non-null  int64  \n",
      " 31  Sphere Unknown           36000 non-null  float64\n",
      " 32  Sphere Volume            36000 non-null  float64\n",
      " 33  Sum Intensity            36000 non-null  float64\n",
      " 34  Symmetry                 36000 non-null  float64\n",
      " 35  Transparency             36000 non-null  float64\n",
      " 36  Volume (ABD)             36000 non-null  float64\n",
      " 37  Volume (ESD)             36000 non-null  float64\n",
      " 38  Width                    36000 non-null  float64\n",
      " 39  camp                     36000 non-null  int64  \n",
      " 40  corylus                  36000 non-null  int64  \n",
      " 41  dust                     36000 non-null  int64  \n",
      " 42  grim                     36000 non-null  int64  \n",
      " 43  qrob                     36000 non-null  int64  \n",
      " 44  qsub                     36000 non-null  int64  \n",
      "dtypes: float64(37), int64(8)\n",
      "memory usage: 12.4 MB\n",
      "None\n",
      "<class 'pandas.core.frame.DataFrame'>\n",
      "RangeIndex: 6000 entries, 0 to 5999\n",
      "Data columns (total 45 columns):\n",
      " #   Column                   Non-Null Count  Dtype  \n",
      "---  ------                   --------------  -----  \n",
      " 0   Area (ABD)               6000 non-null   float64\n",
      " 1   Area (Filled)            6000 non-null   float64\n",
      " 2   Aspect Ratio             6000 non-null   float64\n",
      " 3   Biovolume (Cylinder)     6000 non-null   float64\n",
      " 4   Biovolume (P. Spheroid)  6000 non-null   float64\n",
      " 5   Biovolume (Sphere)       6000 non-null   float64\n",
      " 6   Circle Fit               6000 non-null   float64\n",
      " 7   Circularity              6000 non-null   float64\n",
      " 8   Circularity (Hu)         6000 non-null   float64\n",
      " 9   Compactness              6000 non-null   float64\n",
      " 10  Convex Perimeter         6000 non-null   float64\n",
      " 11  Convexity                6000 non-null   float64\n",
      " 12  Diameter (ABD)           6000 non-null   float64\n",
      " 13  Diameter (ESD)           6000 non-null   float64\n",
      " 14  Edge Gradient            6000 non-null   float64\n",
      " 15  Elongation               6000 non-null   float64\n",
      " 16  Feret Angle Max          6000 non-null   float64\n",
      " 17  Feret Angle Min          6000 non-null   float64\n",
      " 18  Fiber Curl               6000 non-null   float64\n",
      " 19  Fiber Straightness       6000 non-null   float64\n",
      " 20  Geodesic Aspect Ratio    6000 non-null   float64\n",
      " 21  Geodesic Length          6000 non-null   float64\n",
      " 22  Geodesic Thickness       6000 non-null   float64\n",
      " 23  Intensity                6000 non-null   float64\n",
      " 24  Length                   6000 non-null   float64\n",
      " 25  Particles Per Chain      6000 non-null   int64  \n",
      " 26  Perimeter                6000 non-null   float64\n",
      " 27  Roughness                6000 non-null   float64\n",
      " 28  Sigma Intensity          6000 non-null   float64\n",
      " 29  Sphere Complement        6000 non-null   float64\n",
      " 30  Sphere Count             6000 non-null   int64  \n",
      " 31  Sphere Unknown           6000 non-null   float64\n",
      " 32  Sphere Volume            6000 non-null   float64\n",
      " 33  Sum Intensity            6000 non-null   float64\n",
      " 34  Symmetry                 6000 non-null   float64\n",
      " 35  Transparency             6000 non-null   float64\n",
      " 36  Volume (ABD)             6000 non-null   float64\n",
      " 37  Volume (ESD)             6000 non-null   float64\n",
      " 38  Width                    6000 non-null   float64\n",
      " 39  camp                     6000 non-null   int64  \n",
      " 40  corylus                  6000 non-null   int64  \n",
      " 41  dust                     6000 non-null   int64  \n",
      " 42  grim                     6000 non-null   int64  \n",
      " 43  qrob                     6000 non-null   int64  \n",
      " 44  qsub                     6000 non-null   int64  \n",
      "dtypes: float64(37), int64(8)\n",
      "memory usage: 2.1 MB\n",
      "None\n"
     ]
    }
   ],
   "source": [
    "Ntrain, Nval = 6000, 1000\n",
    "\n",
    "camp = train.loc[train['camp'] == 1]\n",
    "corylus = train.loc[train['corylus'] == 1]\n",
    "dust = train.loc[train['dust'] == 1]\n",
    "grim = train.loc[train['grim'] == 1]\n",
    "qrob = train.loc[train['qrob'] == 1]\n",
    "qsub = train.loc[train['qsub'] == 1]\n",
    "\n",
    "minN = min(len(camp), len(corylus), len(dust), len(grim), len(qrob), len(qsub)) #7824\n",
    "\n",
    "camp_train = camp.sample(minN).sample(Ntrain)\n",
    "camp_val = camp.drop(camp_train.index).sample(Nval)\n",
    "\n",
    "corylus_train = corylus.sample(minN).sample(Ntrain)\n",
    "corylus_val = corylus.drop(corylus_train.index).sample(Nval)\n",
    "\n",
    "dust_train = dust.sample(minN).sample(Ntrain)\n",
    "dust_val = dust.drop(dust_train.index).sample(Nval)\n",
    "\n",
    "grim_train = grim.sample(minN).sample(Ntrain)\n",
    "grim_val = grim.drop(grim_train.index).sample(Nval)\n",
    "\n",
    "qrob_train = qrob.sample(minN).sample(Ntrain)\n",
    "qrob_val = qrob.drop(qrob_train.index).sample(Nval)\n",
    "\n",
    "qsub_train = qsub.sample(minN).sample(Ntrain)\n",
    "qsub_val = qsub.drop(qsub_train.index).sample(Nval)\n",
    "\n",
    "train = pd.concat([camp_train, corylus_train, dust_train, grim_train, qrob_train, qsub_train], ignore_index = True)\n",
    "val = pd.concat([camp_val, corylus_val, dust_val, grim_val, qrob_val, qsub_val], ignore_index = True)\n",
    "\n",
    "print(len(train))\n",
    "print(len(val))\n",
    "\n",
    "display(train.sample(3))\n",
    "print(train.info())\n",
    "print(val.info())"
   ]
  },
  {
   "cell_type": "code",
   "execution_count": 5,
   "id": "bec7ba13",
   "metadata": {
    "id": "bec7ba13",
    "outputId": "ba957c69-9deb-4bc5-9be5-cf2d8d63698b"
   },
   "outputs": [
    {
     "name": "stdout",
     "output_type": "stream",
     "text": [
      "(36000, 39)\n",
      "(36000, 6)\n",
      "(6000, 39)\n",
      "(6000, 6)\n",
      "Using these features: ['Area (ABD)', 'Area (Filled)', 'Aspect Ratio', 'Biovolume (Cylinder)', 'Biovolume (P. Spheroid)', 'Biovolume (Sphere)', 'Circle Fit', 'Circularity', 'Circularity (Hu)', 'Compactness', 'Convex Perimeter', 'Convexity', 'Diameter (ABD)', 'Diameter (ESD)', 'Edge Gradient', 'Elongation', 'Feret Angle Max', 'Feret Angle Min', 'Fiber Curl', 'Fiber Straightness', 'Geodesic Aspect Ratio', 'Geodesic Length', 'Geodesic Thickness', 'Intensity', 'Length', 'Particles Per Chain', 'Perimeter', 'Roughness', 'Sigma Intensity', 'Sphere Complement', 'Sphere Count', 'Sphere Unknown', 'Sphere Volume', 'Sum Intensity', 'Symmetry', 'Transparency', 'Volume (ABD)', 'Volume (ESD)', 'Width']\n",
      "<class 'numpy.ndarray'> (36000, 39)\n",
      "<class 'numpy.ndarray'> (36000,)\n",
      "<class 'numpy.ndarray'> (6000, 39)\n",
      "<class 'numpy.ndarray'> (6000,)\n"
     ]
    }
   ],
   "source": [
    "X_train = train.drop(['camp', 'corylus', 'dust', 'grim', 'qrob', 'qsub'], axis=1)\n",
    "Y_train = train[['camp', 'corylus', 'dust', 'grim', 'qrob', 'qsub']]\n",
    "X_val  = val.drop(['camp', 'corylus', 'dust', 'grim', 'qrob', 'qsub'], axis=1)\n",
    "Y_val = val[['camp', 'corylus', 'dust', 'grim', 'qrob', 'qsub']]\n",
    "\n",
    "print(X_train.shape)\n",
    "print(Y_train.shape)\n",
    "print(X_val.shape)\n",
    "print(Y_val.shape)\n",
    "\n",
    "# Estract the feature names\n",
    "feature_names = X_train.columns.tolist()\n",
    "print('Using these features:', feature_names)\n",
    "\n",
    "# Let's work with ndarrays insted of dataframes\n",
    "X_train = X_train.to_numpy()\n",
    "Y_train = Y_train.to_numpy()\n",
    "X_val = X_val.to_numpy()\n",
    "Y_val = Y_val.to_numpy()\n",
    "\n",
    "\n",
    "# Covert 6-binary target to one int 0,1,...,6\n",
    "# seems to work better\n",
    "def from1hotenc_to_classint(ar):\n",
    "    \n",
    "    mask1 = np.all(ar==[1,0,0,0,0,0], axis=1)\n",
    "    mask2 = np.all(ar==[0,1,0,0,0,0], axis=1)\n",
    "    mask3 = np.all(ar==[0,0,1,0,0,0], axis=1)\n",
    "    mask4 = np.all(ar==[0,0,0,1,0,0], axis=1)\n",
    "    mask5 = np.all(ar==[0,0,0,0,1,0], axis=1)\n",
    "    mask6 = np.all(ar==[0,0,0,0,0,1], axis=1)\n",
    "    \n",
    "    ar[mask1] = 1\n",
    "    ar[mask2] = 2\n",
    "    ar[mask3] = 3\n",
    "    ar[mask4] = 4\n",
    "    ar[mask5] = 5\n",
    "    ar[mask6] = 6\n",
    "    \n",
    "    return ar[:,0]\n",
    "\n",
    "Y_train = from1hotenc_to_classint(Y_train)\n",
    "Y_val = from1hotenc_to_classint(Y_val)\n",
    "\n",
    "\n",
    "for ar in [X_train, Y_train, X_val, Y_val]:\n",
    "    print(type(ar), ar.shape)\n",
    "\n",
    "\n",
    "# shuffle (not necessary)\n",
    "X_train, Y_train = shuffle(X_train, Y_train)\n",
    "X_val, Y_val = shuffle(X_val, Y_val)"
   ]
  },
  {
   "cell_type": "markdown",
   "id": "c2fc7ab5",
   "metadata": {
    "id": "c2fc7ab5"
   },
   "source": [
    "## Confusion matrix function"
   ]
  },
  {
   "cell_type": "code",
   "execution_count": 6,
   "id": "d6e1a407",
   "metadata": {
    "id": "d6e1a407"
   },
   "outputs": [],
   "source": [
    "# Confusion matrix function\n",
    "def plot_confusion_matrix(cm,\n",
    "                          target_names,\n",
    "                          title='Confusion matrix',\n",
    "                          cmap=None,\n",
    "                          normalize=True):\n",
    "\n",
    "    accuracy = np.trace(cm) / float(np.sum(cm))\n",
    "    misclass = 1 - accuracy\n",
    "\n",
    "    if cmap is None:\n",
    "        cmap = plt.get_cmap('Blues')#Blues#summer#winter\n",
    "\n",
    "    plt.figure(figsize=(8, 6))\n",
    "    plt.imshow(cm, interpolation='nearest', cmap=cmap)\n",
    "    plt.title(title, fontsize=16)\n",
    "    cbar = plt.colorbar()\n",
    "    \n",
    "    \n",
    "    if target_names is not None:\n",
    "        tick_marks = np.arange(len(target_names))\n",
    "        plt.xticks(tick_marks, target_names, rotation=45, fontsize=16)\n",
    "        plt.yticks(tick_marks, target_names, fontsize=16)\n",
    "        \n",
    "\n",
    "    if normalize:\n",
    "        cm = cm.astype('float') / cm.sum(axis=1)[:, np.newaxis]\n",
    "\n",
    "\n",
    "    thresh = cm.max() / 1.5 if normalize else cm.max() / 2\n",
    "    for i, j in itertools.product(range(cm.shape[0]), range(cm.shape[1])):\n",
    "        if normalize:\n",
    "            plt.text(j, i, \"{:0.2f}\".format(cm[i, j]),\n",
    "                     horizontalalignment=\"center\",\n",
    "                     fontsize=13,\n",
    "                     color=\"white\" if cm[i, j] > thresh else \"black\")\n",
    "        else:\n",
    "            plt.text(j, i, \"{:,}\".format(cm[i, j]),\n",
    "                     horizontalalignment=\"center\",\n",
    "                     fontsize=16,\n",
    "                     color=\"white\" if cm[i, j] > thresh else \"black\")\n",
    "\n",
    "\n",
    "    plt.tight_layout()\n",
    "    plt.ylabel('True label', fontsize=16)\n",
    "    plt.xlabel(f'Predicted label\\n\\n accuracy={accuracy:0.4f}; misclass={misclass:0.4f}', fontsize=16)\n",
    "    cbar.ax.set_ylabel('Number of items',  labelpad=20, rotation=270, fontsize=16)   \n",
    "    plt.show()"
   ]
  },
  {
   "cell_type": "markdown",
   "id": "96d8c6cd",
   "metadata": {
    "id": "96d8c6cd"
   },
   "source": [
    "## Models"
   ]
  },
  {
   "cell_type": "markdown",
   "id": "2e7898cd",
   "metadata": {
    "id": "2e7898cd"
   },
   "source": [
    "### Random Forest"
   ]
  },
  {
   "cell_type": "code",
   "execution_count": 11,
   "id": "43b110c6",
   "metadata": {
    "id": "43b110c6",
    "outputId": "75fcc31e-7903-4deb-9560-e0f643539229"
   },
   "outputs": [
    {
     "name": "stdout",
     "output_type": "stream",
     "text": [
      "Random forest accuracy 0.86\n",
      "                          importances\n",
      "Biovolume (Sphere)       6.432001e-02\n",
      "Area (ABD)               6.371474e-02\n",
      "Volume (ABD)             5.914220e-02\n",
      "Diameter (ABD)           5.673087e-02\n",
      "Circularity (Hu)         5.078079e-02\n",
      "Length                   4.645686e-02\n",
      "Sphere Volume            4.438824e-02\n",
      "Volume (ESD)             4.316788e-02\n",
      "Area (Filled)            4.192424e-02\n",
      "Intensity                3.835828e-02\n",
      "Diameter (ESD)           3.779685e-02\n",
      "Convex Perimeter         3.762581e-02\n",
      "Biovolume (Cylinder)     3.136305e-02\n",
      "Width                    2.787470e-02\n",
      "Biovolume (P. Spheroid)  2.712831e-02\n",
      "Transparency             2.644762e-02\n",
      "Sum Intensity            2.639117e-02\n",
      "Roughness                2.593421e-02\n",
      "Geodesic Thickness       2.359521e-02\n",
      "Edge Gradient            2.254603e-02\n",
      "Sigma Intensity          2.148359e-02\n",
      "Aspect Ratio             2.109016e-02\n",
      "Perimeter                1.872652e-02\n",
      "Geodesic Length          1.793394e-02\n",
      "Circle Fit               1.398078e-02\n",
      "Feret Angle Min          1.293334e-02\n",
      "Convexity                1.215422e-02\n",
      "Sphere Count             1.144900e-02\n",
      "Symmetry                 1.098696e-02\n",
      "Fiber Straightness       1.053632e-02\n",
      "Sphere Complement        9.840734e-03\n",
      "Feret Angle Max          9.177513e-03\n",
      "Compactness              8.465569e-03\n",
      "Circularity              7.424958e-03\n",
      "Fiber Curl               6.245849e-03\n",
      "Elongation               6.012924e-03\n",
      "Geodesic Aspect Ratio    4.619248e-03\n",
      "Sphere Unknown           1.250980e-03\n",
      "Particles Per Chain      3.087381e-07\n"
     ]
    },
    {
     "data": {
      "image/png": "[encoded data removed]",
      "text/plain": [
       "<Figure size 576x432 with 2 Axes>"
      ]
     },
     "metadata": {
      "needs_background": "light"
     },
     "output_type": "display_data"
    }
   ],
   "source": [
    "random_forest = RandomForestClassifier(n_estimators=1000, max_features='sqrt', \n",
    "                                       max_depth=50, random_state=None, n_jobs=-1)\n",
    "# run the model\n",
    "random_forest.fit(X_train, Y_train)\n",
    "# predict on the validation set\n",
    "Y_pred = random_forest.predict(X_val)\n",
    "# calculate the score on the val dataset by comparing the predictions with the grund truth\n",
    "acc_random_forest = metrics.accuracy_score(Y_val, Y_pred, normalize=True)\n",
    "print(f'Random forest accuracy {acc_random_forest:.2f}')\n",
    "\n",
    "# The last two commands are equivalent to just doing this:\n",
    "# acc_random_forest = random_forest.score(X_val, Y_val)\n",
    "# print(acc_random_forest)\n",
    "\n",
    "\n",
    "# The higher, the more important the feature. \n",
    "# The importance of a feature is computed as the (normalized) total reduction \n",
    "# of the criterion brought by that feature. It is also known as the Gini importance.\n",
    "importances = random_forest.feature_importances_\n",
    "forest_importances = pd.DataFrame({'importances': importances}, index=feature_names).sort_values(by='importances', ascending=False)\n",
    "print(forest_importances)\n",
    "\n",
    "cm = confusion_matrix(Y_pred, Y_val)\n",
    "# print(cm)\n",
    "plot_confusion_matrix(cm, \n",
    "                      normalize    = True,\n",
    "                      target_names = ['camp', 'corylus', 'dust', 'grim', 'qrob', 'qsub'],\n",
    "                      title        = \"Confusion Matrix\")"
   ]
  },
  {
   "cell_type": "markdown",
   "id": "3c764be1",
   "metadata": {
    "id": "3c764be1"
   },
   "source": [
    "### Decision Tree"
   ]
  },
  {
   "cell_type": "code",
   "execution_count": 12,
   "id": "4f7d68fa",
   "metadata": {
    "id": "4f7d68fa",
    "outputId": "c7c2c3b4-99f5-4931-db76-d8bbcecb2b66"
   },
   "outputs": [
    {
     "name": "stdout",
     "output_type": "stream",
     "text": [
      "Decision tree accuracy 0.80\n"
     ]
    }
   ],
   "source": [
    "decision_tree = DecisionTreeClassifier()\n",
    "decision_tree.fit(X_train, Y_train)\n",
    "\n",
    "Y_pred = decision_tree.predict(X_val)\n",
    "\n",
    "acc_decision_tree = metrics.accuracy_score(Y_val, Y_pred, normalize=True)\n",
    "print(f'Decision tree accuracy {acc_decision_tree:.2f}')"
   ]
  },
  {
   "cell_type": "markdown",
   "id": "d8258694",
   "metadata": {
    "id": "d8258694"
   },
   "source": [
    "### Adaboost classifier"
   ]
  },
  {
   "cell_type": "code",
   "execution_count": 13,
   "id": "e0ab576d",
   "metadata": {
    "id": "e0ab576d",
    "outputId": "58408b8c-a2a6-4810-96c0-4c5774ab8d52"
   },
   "outputs": [
    {
     "name": "stdout",
     "output_type": "stream",
     "text": [
      "bdt accuracy 0.50 0.80\n"
     ]
    }
   ],
   "source": [
    "bdt_real = AdaBoostClassifier(\n",
    "    DecisionTreeClassifier(max_depth=2),\n",
    "    n_estimators=600,\n",
    "    learning_rate=1)\n",
    "\n",
    "bdt_discrete = AdaBoostClassifier(\n",
    "    DecisionTreeClassifier(max_depth=50),\n",
    "    n_estimators=1000,\n",
    "    learning_rate=1.5,\n",
    "    algorithm=\"SAMME\")\n",
    "\n",
    "bdt_real.fit(X_train, Y_train)\n",
    "bdt_discrete.fit(X_train, Y_train)\n",
    "\n",
    "Y_pred_read = bdt_real.predict(X_val)\n",
    "Y_pred_discrete = bdt_discrete.predict(X_val)\n",
    "\n",
    "acc_bdt_real = metrics.accuracy_score(Y_val, Y_pred_read, normalize=True)\n",
    "acc_bdt_discrete = metrics.accuracy_score(Y_val, Y_pred_discrete, normalize=True)\n",
    "print(f'bdt accuracy {acc_bdt_real:.2f} {acc_bdt_discrete:.2f}')"
   ]
  },
  {
   "cell_type": "markdown",
   "id": "e0006800",
   "metadata": {
    "id": "e0006800"
   },
   "source": [
    "### Gaussian Naive Bayes"
   ]
  },
  {
   "cell_type": "code",
   "execution_count": 14,
   "id": "28608581",
   "metadata": {
    "id": "28608581",
    "outputId": "accbf4f3-0da3-4080-a0f1-fdd66cff9067"
   },
   "outputs": [
    {
     "name": "stdout",
     "output_type": "stream",
     "text": [
      "Gaussian Naive Bayes 0.63\n"
     ]
    }
   ],
   "source": [
    "# Gaussian Naive Bayes\n",
    "\n",
    "gaussian = GaussianNB()\n",
    "gaussian.fit(X_train, Y_train)\n",
    "Y_pred = gaussian.predict(X_val)\n",
    "\n",
    "acc_gaussian = metrics.accuracy_score(Y_val, Y_pred, normalize=True)\n",
    "\n",
    "print(f'Gaussian Naive Bayes {acc_gaussian:.2f}')"
   ]
  },
  {
   "cell_type": "markdown",
   "id": "6bf603db",
   "metadata": {
    "id": "6bf603db"
   },
   "source": [
    "### Perceptron"
   ]
  },
  {
   "cell_type": "code",
   "execution_count": 15,
   "id": "7a74af6a",
   "metadata": {
    "id": "7a74af6a",
    "outputId": "037763fc-514d-4063-94cb-93fa2b210d49"
   },
   "outputs": [
    {
     "name": "stdout",
     "output_type": "stream",
     "text": [
      "Perceptron 0.24\n"
     ]
    }
   ],
   "source": [
    "# Perceptron\n",
    "\n",
    "perceptron = Perceptron()\n",
    "perceptron.fit(X_train, Y_train)\n",
    "Y_pred = perceptron.predict(X_val)\n",
    "\n",
    "acc_perceptron = metrics.accuracy_score(Y_val, Y_pred, normalize=True)\n",
    "\n",
    "print(f'Perceptron {acc_perceptron:.2f}')"
   ]
  },
  {
   "cell_type": "markdown",
   "id": "18accca3",
   "metadata": {
    "id": "18accca3"
   },
   "source": [
    "### Linear SVC"
   ]
  },
  {
   "cell_type": "code",
   "execution_count": 16,
   "id": "96b26f6d",
   "metadata": {
    "id": "96b26f6d",
    "outputId": "9a6de7cc-3b1b-4536-ad3d-17ebf8efe1ea"
   },
   "outputs": [
    {
     "name": "stdout",
     "output_type": "stream",
     "text": [
      "Linear SVC 0.53\n"
     ]
    },
    {
     "name": "stderr",
     "output_type": "stream",
     "text": [
      "/home/nico/anaconda3/envs/Icelearning/lib/python3.8/site-packages/sklearn/svm/_base.py:985: ConvergenceWarning: Liblinear failed to converge, increase the number of iterations.\n",
      "  warnings.warn(\"Liblinear failed to converge, increase \"\n"
     ]
    }
   ],
   "source": [
    "# Linear SVC\n",
    "\n",
    "linear_svc = LinearSVC()\n",
    "linear_svc.fit(X_train, Y_train)\n",
    "Y_pred = linear_svc.predict(X_val)\n",
    "\n",
    "acc_linear_svc = metrics.accuracy_score(Y_val, Y_pred, normalize=True)\n",
    "\n",
    "print(f'Linear SVC {acc_linear_svc:.2f}')\n"
   ]
  },
  {
   "cell_type": "markdown",
   "id": "cc9bee5c",
   "metadata": {
    "id": "cc9bee5c"
   },
   "source": [
    "### Support Vector Machines"
   ]
  },
  {
   "cell_type": "code",
   "execution_count": 17,
   "id": "b3688d7b",
   "metadata": {
    "id": "b3688d7b",
    "outputId": "72f32cd5-3b67-44bb-eb78-3b440202bd55"
   },
   "outputs": [
    {
     "name": "stdout",
     "output_type": "stream",
     "text": [
      "SVM 0.72\n"
     ]
    }
   ],
   "source": [
    "# Support Vector Machines\n",
    "\n",
    "svc = SVC()\n",
    "svc.fit(X_train, Y_train)\n",
    "Y_pred = svc.predict(X_val)\n",
    "\n",
    "acc_svm = metrics.accuracy_score(Y_val, Y_pred, normalize=True)\n",
    "\n",
    "print(f'SVM {acc_svm:.2f}')"
   ]
  },
  {
   "cell_type": "markdown",
   "id": "965f514b",
   "metadata": {
    "id": "965f514b"
   },
   "source": [
    "### KNN"
   ]
  },
  {
   "cell_type": "code",
   "execution_count": 18,
   "id": "67e1a7d7",
   "metadata": {
    "id": "67e1a7d7",
    "outputId": "ef3fffb5-0a82-41da-97e7-0b46df225a80"
   },
   "outputs": [
    {
     "name": "stdout",
     "output_type": "stream",
     "text": [
      "KNN 0.76\n"
     ]
    }
   ],
   "source": [
    "knn = KNeighborsClassifier(n_neighbors = 3)\n",
    "knn.fit(X_train, Y_train)\n",
    "Y_pred = knn.predict(X_val)\n",
    "\n",
    "acc_knn = metrics.accuracy_score(Y_val, Y_pred, normalize=True)\n",
    "\n",
    "print(f'KNN {acc_knn:.2f}')"
   ]
  },
  {
   "cell_type": "markdown",
   "id": "22a83d0c",
   "metadata": {
    "id": "22a83d0c"
   },
   "source": [
    "### SGD"
   ]
  },
  {
   "cell_type": "code",
   "execution_count": 19,
   "id": "21828e68",
   "metadata": {
    "id": "21828e68",
    "outputId": "9cbf56e3-df34-486e-9801-ee9866930a83"
   },
   "outputs": [
    {
     "name": "stdout",
     "output_type": "stream",
     "text": [
      "SGD 0.56\n"
     ]
    }
   ],
   "source": [
    "# Stochastic Gradient Descent\n",
    "\n",
    "sgd = SGDClassifier(loss='hinge', penalty='l2')\n",
    "sgd.fit(X_train, Y_train)\n",
    "Y_pred = sgd.predict(X_val)\n",
    "\n",
    "acc_sgd = metrics.accuracy_score(Y_val, Y_pred, normalize=True)\n",
    "\n",
    "print(f'SGD {acc_sgd:.2f}')"
   ]
  },
  {
   "cell_type": "markdown",
   "id": "d70bf519",
   "metadata": {
    "id": "d70bf519"
   },
   "source": [
    "### Logistic regression"
   ]
  },
  {
   "cell_type": "code",
   "execution_count": 20,
   "id": "c797a0ec",
   "metadata": {
    "id": "c797a0ec",
    "outputId": "39b9d3e1-6f60-43b6-91e9-af6b9cc3f214"
   },
   "outputs": [
    {
     "name": "stdout",
     "output_type": "stream",
     "text": [
      "Logistic regression 0.77\n"
     ]
    },
    {
     "name": "stderr",
     "output_type": "stream",
     "text": [
      "/home/nico/anaconda3/envs/Icelearning/lib/python3.8/site-packages/sklearn/linear_model/_logistic.py:763: ConvergenceWarning: lbfgs failed to converge (status=1):\n",
      "STOP: TOTAL NO. of ITERATIONS REACHED LIMIT.\n",
      "\n",
      "Increase the number of iterations (max_iter) or scale the data as shown in:\n",
      "    https://scikit-learn.org/stable/modules/preprocessing.html\n",
      "Please also refer to the documentation for alternative solver options:\n",
      "    https://scikit-learn.org/stable/modules/linear_model.html#logistic-regression\n",
      "  n_iter_i = _check_optimize_result(\n"
     ]
    }
   ],
   "source": [
    "# Logistic Regression\n",
    "\n",
    "logreg = LogisticRegression(max_iter=5000)\n",
    "logreg.fit(X_train, Y_train)\n",
    "Y_pred = logreg.predict(X_val)\n",
    "\n",
    "acc_log = metrics.accuracy_score(Y_val, Y_pred, normalize=True)\n",
    "\n",
    "print(f'Logistic regression {acc_log:.2f}')"
   ]
  },
  {
   "cell_type": "markdown",
   "id": "6375feb2",
   "metadata": {
    "id": "6375feb2"
   },
   "source": [
    "### Model evaluation"
   ]
  },
  {
   "cell_type": "code",
   "execution_count": 21,
   "id": "4dafeccf",
   "metadata": {
    "id": "4dafeccf",
    "outputId": "48f22ba8-17c8-490a-b495-1055edbccda1"
   },
   "outputs": [
    {
     "data": {
      "text/html": [
       "<div>\n",
       "<style scoped>\n",
       "    .dataframe tbody tr th:only-of-type {\n",
       "        vertical-align: middle;\n",
       "    }\n",
       "\n",
       "    .dataframe tbody tr th {\n",
       "        vertical-align: top;\n",
       "    }\n",
       "\n",
       "    .dataframe thead th {\n",
       "        text-align: right;\n",
       "    }\n",
       "</style>\n",
       "<table border=\"1\" class=\"dataframe\">\n",
       "  <thead>\n",
       "    <tr style=\"text-align: right;\">\n",
       "      <th></th>\n",
       "      <th>Model</th>\n",
       "      <th>Score</th>\n",
       "    </tr>\n",
       "  </thead>\n",
       "  <tbody>\n",
       "    <tr>\n",
       "      <th>3</th>\n",
       "      <td>Random Forest</td>\n",
       "      <td>0.856833</td>\n",
       "    </tr>\n",
       "    <tr>\n",
       "      <th>8</th>\n",
       "      <td>Decision Tree</td>\n",
       "      <td>0.797333</td>\n",
       "    </tr>\n",
       "    <tr>\n",
       "      <th>2</th>\n",
       "      <td>Logistic Regression</td>\n",
       "      <td>0.769500</td>\n",
       "    </tr>\n",
       "    <tr>\n",
       "      <th>1</th>\n",
       "      <td>KNN</td>\n",
       "      <td>0.756833</td>\n",
       "    </tr>\n",
       "    <tr>\n",
       "      <th>0</th>\n",
       "      <td>Support Vector Machines</td>\n",
       "      <td>0.716333</td>\n",
       "    </tr>\n",
       "    <tr>\n",
       "      <th>4</th>\n",
       "      <td>Naive Bayes</td>\n",
       "      <td>0.634000</td>\n",
       "    </tr>\n",
       "    <tr>\n",
       "      <th>6</th>\n",
       "      <td>Stochastic Gradient Decent</td>\n",
       "      <td>0.561833</td>\n",
       "    </tr>\n",
       "    <tr>\n",
       "      <th>7</th>\n",
       "      <td>Linear SVC</td>\n",
       "      <td>0.532667</td>\n",
       "    </tr>\n",
       "    <tr>\n",
       "      <th>5</th>\n",
       "      <td>Perceptron</td>\n",
       "      <td>0.243833</td>\n",
       "    </tr>\n",
       "  </tbody>\n",
       "</table>\n",
       "</div>"
      ],
      "text/plain": [
       "                        Model     Score\n",
       "3               Random Forest  0.856833\n",
       "8               Decision Tree  0.797333\n",
       "2         Logistic Regression  0.769500\n",
       "1                         KNN  0.756833\n",
       "0     Support Vector Machines  0.716333\n",
       "4                 Naive Bayes  0.634000\n",
       "6  Stochastic Gradient Decent  0.561833\n",
       "7                  Linear SVC  0.532667\n",
       "5                  Perceptron  0.243833"
      ]
     },
     "execution_count": 21,
     "metadata": {},
     "output_type": "execute_result"
    }
   ],
   "source": [
    "models = pd.DataFrame({\n",
    "    'Model': ['Support Vector Machines', 'KNN', 'Logistic Regression', \n",
    "              'Random Forest', 'Naive Bayes', 'Perceptron', \n",
    "              'Stochastic Gradient Decent', 'Linear SVC', \n",
    "              'Decision Tree'],\n",
    "    'Score': [acc_svm, acc_knn, acc_log, \n",
    "              acc_random_forest, acc_gaussian, acc_perceptron, \n",
    "              acc_sgd, acc_linear_svc, acc_decision_tree]})\n",
    "\n",
    "models.sort_values(by='Score', ascending=False)\n"
   ]
  },
  {
   "cell_type": "code",
   "execution_count": null,
   "id": "615b0e96",
   "metadata": {
    "id": "615b0e96"
   },
   "outputs": [],
   "source": []
  }
 ],
 "metadata": {
  "colab": {
   "collapsed_sections": [],
   "name": "icelearning_MVA.ipynb",
   "provenance": []
  },
  "kernelspec": {
   "display_name": "Python 3",
   "language": "python",
   "name": "python3"
  },
  "language_info": {
   "codemirror_mode": {
    "name": "ipython",
    "version": 3
   },
   "file_extension": ".py",
   "mimetype": "text/x-python",
   "name": "python",
   "nbconvert_exporter": "python",
   "pygments_lexer": "ipython3",
   "version": "3.8.6"
  }
 },
 "nbformat": 4,
 "nbformat_minor": 5
}
